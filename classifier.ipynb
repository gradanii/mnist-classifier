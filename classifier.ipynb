{
 "cells": [
  {
   "cell_type": "code",
   "execution_count": 2,
   "metadata": {},
   "outputs": [],
   "source": [
    "import torch\n",
    "from torch import nn\n",
    "from torch.utils.data import DataLoader\n",
    "from torchvision import datasets\n",
    "from torchvision.transforms import ToTensor"
   ]
  },
  {
   "cell_type": "code",
   "execution_count": 3,
   "metadata": {},
   "outputs": [],
   "source": [
    "# Download training data from open datasets.\n",
    "training_data = datasets.MNIST(\n",
    "    root=\"data\",\n",
    "    train=True,\n",
    "    download=True,\n",
    "    transform=ToTensor(),\n",
    ")\n",
    "\n",
    "# Download test data from open datasets.\n",
    "test_data = datasets.MNIST(\n",
    "    root=\"data\",\n",
    "    train=False,\n",
    "    download=True,\n",
    "    transform=ToTensor(),\n",
    ")"
   ]
  },
  {
   "cell_type": "code",
   "execution_count": 4,
   "metadata": {},
   "outputs": [],
   "source": [
    "from torchvision import transforms\n",
    "\n",
    "def get_mean_std(loader):\n",
    "    # Compute the mean and standard deviation of all pixels in the dataset\n",
    "    num_pixels = 0\n",
    "    mean = 0.0\n",
    "    std = 0.0\n",
    "    for images, _ in loader:\n",
    "        batch_size, num_channels, height, width = images.shape\n",
    "        num_pixels += batch_size * height * width\n",
    "        mean += images.mean(axis=(0, 2, 3)).sum()\n",
    "        std += images.std(axis=(0, 2, 3)).sum()\n",
    "\n",
    "    mean /= num_pixels\n",
    "    std /= num_pixels\n",
    "\n",
    "    return mean, std\n",
    "\n",
    "data_transforms = transforms.Compose([\n",
    "    transforms.Resize((224, 224)),\n",
    "    transforms.ToTensor(),\n",
    "])\n",
    "\n",
    "batch_size = 64\n",
    "train_loader = torch.utils.data.DataLoader(training_data, batch_size=batch_size, shuffle=True)\n",
    "test_loader = torch.utils.data.DataLoader(test_data, batch_size=batch_size, shuffle=True)\n",
    "mean, std = get_mean_std(train_loader)\n"
   ]
  },
  {
   "cell_type": "code",
   "execution_count": 5,
   "metadata": {},
   "outputs": [],
   "source": [
    "data_transforms = transforms.Compose([\n",
    "    transforms.ToTensor(),\n",
    "    transforms.Normalize((0.1308,), (0.3081,))\n",
    "])\n",
    "\n",
    "training = datasets.MNIST(\n",
    "    root=\"data\",\n",
    "    train=True,\n",
    "    download=True,\n",
    "    transform=data_transforms,\n",
    ")\n",
    "\n",
    "testing = datasets.MNIST(\n",
    "    root=\"data\",\n",
    "    train=True,\n",
    "    download=False,\n",
    "    transform=data_transforms,\n",
    ")\n"
   ]
  },
  {
   "cell_type": "code",
   "execution_count": 6,
   "metadata": {},
   "outputs": [
    {
     "name": "stdout",
     "output_type": "stream",
     "text": [
      "torch.Size([64, 1, 28, 28]) torch.Size([64])\n"
     ]
    }
   ],
   "source": [
    "images, labels = next(iter(train_loader))  # Get one batch\n",
    "print(images.shape, labels.shape)  # Expected: (batch_size, 1, 28, 28), (batch_size)"
   ]
  },
  {
   "cell_type": "code",
   "execution_count": 7,
   "metadata": {},
   "outputs": [],
   "source": [
    "class NeuralNetwork(nn.Module):\n",
    "    def __init__(self):\n",
    "        super().__init__()\n",
    "        self.flatten = nn.Flatten()\n",
    "        self.linear_relu_stack = nn.Sequential(\n",
    "            nn.Linear(28*28, 512),\n",
    "            nn.ReLU(),\n",
    "            nn.Linear(512, 512),\n",
    "            nn.ReLU(),\n",
    "            nn.Linear(512, 10),\n",
    "        )\n",
    "\n",
    "    def forward(self, x):\n",
    "        x = self.flatten(x)\n",
    "        logits = self.linear_relu_stack(x)\n",
    "        return logits"
   ]
  },
  {
   "cell_type": "code",
   "execution_count": 8,
   "metadata": {},
   "outputs": [
    {
     "name": "stdout",
     "output_type": "stream",
     "text": [
      "Using cpu device\n"
     ]
    }
   ],
   "source": [
    "import os\n",
    "import torch\n",
    "from torch import nn\n",
    "\n",
    "device = \"cuda\" if torch.cuda.is_available() else \"cpu\"\n",
    "print(f\"Using {device} device\")"
   ]
  },
  {
   "cell_type": "code",
   "execution_count": 9,
   "metadata": {},
   "outputs": [
    {
     "name": "stdout",
     "output_type": "stream",
     "text": [
      "NeuralNetwork(\n",
      "  (flatten): Flatten(start_dim=1, end_dim=-1)\n",
      "  (linear_relu_stack): Sequential(\n",
      "    (0): Linear(in_features=784, out_features=512, bias=True)\n",
      "    (1): ReLU()\n",
      "    (2): Linear(in_features=512, out_features=512, bias=True)\n",
      "    (3): ReLU()\n",
      "    (4): Linear(in_features=512, out_features=10, bias=True)\n",
      "  )\n",
      ")\n"
     ]
    }
   ],
   "source": [
    "model = NeuralNetwork().to(device)\n",
    "print(model)"
   ]
  },
  {
   "cell_type": "code",
   "execution_count": 10,
   "metadata": {},
   "outputs": [],
   "source": [
    "from torch import nn\n",
    "\n",
    "learning_rate = 1e-3\n",
    "batch_size = 64\n",
    "epochs = 5"
   ]
  },
  {
   "cell_type": "code",
   "execution_count": 11,
   "metadata": {},
   "outputs": [],
   "source": [
    "def train_loop(dataloader, model, loss_fn, optimizer):\n",
    "    size = len(dataloader.dataset)\n",
    "    model.train()\n",
    "    for batch, (X, y) in enumerate(dataloader):\n",
    "        pred = model(X)\n",
    "        loss = loss_fn(pred, y)\n",
    "\n",
    "        # Backpropagation\n",
    "        loss.backward()\n",
    "        optimizer.step()\n",
    "        optimizer.zero_grad()\n",
    "\n",
    "        if batch % 100 == 0:\n",
    "            loss, current = loss.item(), batch * batch_size + len(X)\n",
    "            print(f\"loss: {loss:>7f}  [{current:>5d}/{size:>5d}]\")\n",
    "\n",
    "\n",
    "def test_loop(dataloader, model, loss_fn):\n",
    "    # Set the model to evaluation mode - important for batch normalization and dropout layers\n",
    "    # Unnecessary in this situation but added for best practices\n",
    "    model.eval()\n",
    "    size = len(dataloader.dataset)\n",
    "    num_batches = len(dataloader)\n",
    "    test_loss, correct = 0, 0\n",
    "\n",
    "    # Evaluating the model with torch.no_grad() ensures that no gradients are computed during test mode\n",
    "    # also serves to reduce unnecessary gradient computations and memory usage for tensors with requires_grad=True\n",
    "    with torch.no_grad():\n",
    "        for X, y in dataloader:\n",
    "            pred = model(X)\n",
    "            test_loss += loss_fn(pred, y).item()\n",
    "            correct += (pred.argmax(1) == y).type(torch.float).sum().item()\n",
    "\n",
    "    test_loss /= num_batches\n",
    "    correct /= size\n",
    "    print(f\"Test Error: \\n Accuracy: {(100*correct):>0.1f}%, Avg loss: {test_loss:>8f} \\n\")"
   ]
  },
  {
   "cell_type": "code",
   "execution_count": 12,
   "metadata": {},
   "outputs": [
    {
     "name": "stdout",
     "output_type": "stream",
     "text": [
      "Epoch 1\n",
      "--------------------------------------\n",
      "loss: 2.303183  [   64/60000]\n",
      "loss: 2.292202  [ 6464/60000]\n",
      "loss: 2.301175  [12864/60000]\n",
      "loss: 2.292846  [19264/60000]\n",
      "loss: 2.287432  [25664/60000]\n",
      "loss: 2.287675  [32064/60000]\n",
      "loss: 2.285464  [38464/60000]\n",
      "loss: 2.263934  [44864/60000]\n",
      "loss: 2.275370  [51264/60000]\n",
      "loss: 2.258931  [57664/60000]\n",
      "Test Error: \n",
      " Accuracy: 39.2%, Avg loss: 2.261051 \n",
      "\n",
      "Epoch 2\n",
      "--------------------------------------\n",
      "loss: 2.256676  [   64/60000]\n",
      "loss: 2.259790  [ 6464/60000]\n",
      "loss: 2.250911  [12864/60000]\n",
      "loss: 2.254636  [19264/60000]\n",
      "loss: 2.232683  [25664/60000]\n",
      "loss: 2.228674  [32064/60000]\n",
      "loss: 2.239135  [38464/60000]\n",
      "loss: 2.213770  [44864/60000]\n",
      "loss: 2.193835  [51264/60000]\n",
      "loss: 2.191413  [57664/60000]\n",
      "Test Error: \n",
      " Accuracy: 59.6%, Avg loss: 2.197659 \n",
      "\n",
      "Epoch 3\n",
      "--------------------------------------\n",
      "loss: 2.186944  [   64/60000]\n",
      "loss: 2.183985  [ 6464/60000]\n",
      "loss: 2.172227  [12864/60000]\n",
      "loss: 2.169058  [19264/60000]\n",
      "loss: 2.175971  [25664/60000]\n",
      "loss: 2.154008  [32064/60000]\n",
      "loss: 2.173975  [38464/60000]\n",
      "loss: 2.149212  [44864/60000]\n",
      "loss: 2.117660  [51264/60000]\n",
      "loss: 2.076122  [57664/60000]\n",
      "Test Error: \n",
      " Accuracy: 66.3%, Avg loss: 2.089994 \n",
      "\n",
      "Epoch 4\n",
      "--------------------------------------\n",
      "loss: 2.080667  [   64/60000]\n",
      "loss: 2.088238  [ 6464/60000]\n",
      "loss: 2.086322  [12864/60000]\n",
      "loss: 2.029750  [19264/60000]\n",
      "loss: 2.046253  [25664/60000]\n",
      "loss: 1.974096  [32064/60000]\n",
      "loss: 1.969084  [38464/60000]\n",
      "loss: 1.945244  [44864/60000]\n",
      "loss: 1.972136  [51264/60000]\n",
      "loss: 1.951564  [57664/60000]\n",
      "Test Error: \n",
      " Accuracy: 70.0%, Avg loss: 1.900885 \n",
      "\n",
      "Epoch 5\n",
      "--------------------------------------\n",
      "loss: 1.904216  [   64/60000]\n",
      "loss: 1.877887  [ 6464/60000]\n",
      "loss: 1.807301  [12864/60000]\n",
      "loss: 1.848511  [19264/60000]\n",
      "loss: 1.850306  [25664/60000]\n",
      "loss: 1.734309  [32064/60000]\n",
      "loss: 1.642716  [38464/60000]\n",
      "loss: 1.696900  [44864/60000]\n",
      "loss: 1.713146  [51264/60000]\n",
      "loss: 1.690591  [57664/60000]\n",
      "Test Error: \n",
      " Accuracy: 72.7%, Avg loss: 1.611275 \n",
      "\n",
      "Epoch 6\n",
      "--------------------------------------\n",
      "loss: 1.700938  [   64/60000]\n",
      "loss: 1.583135  [ 6464/60000]\n",
      "loss: 1.437699  [12864/60000]\n",
      "loss: 1.501026  [19264/60000]\n",
      "loss: 1.521559  [25664/60000]\n",
      "loss: 1.359919  [32064/60000]\n",
      "loss: 1.507721  [38464/60000]\n",
      "loss: 1.350091  [44864/60000]\n",
      "loss: 1.315264  [51264/60000]\n",
      "loss: 1.450451  [57664/60000]\n",
      "Test Error: \n",
      " Accuracy: 75.8%, Avg loss: 1.285012 \n",
      "\n",
      "Epoch 7\n",
      "--------------------------------------\n",
      "loss: 1.282699  [   64/60000]\n",
      "loss: 1.153747  [ 6464/60000]\n",
      "loss: 1.326582  [12864/60000]\n",
      "loss: 1.171305  [19264/60000]\n",
      "loss: 1.209149  [25664/60000]\n",
      "loss: 1.103329  [32064/60000]\n",
      "loss: 1.153516  [38464/60000]\n",
      "loss: 1.236973  [44864/60000]\n",
      "loss: 1.035284  [51264/60000]\n",
      "loss: 1.101486  [57664/60000]\n",
      "Test Error: \n",
      " Accuracy: 79.1%, Avg loss: 1.023944 \n",
      "\n",
      "Epoch 8\n",
      "--------------------------------------\n",
      "loss: 1.203340  [   64/60000]\n",
      "loss: 1.084945  [ 6464/60000]\n",
      "loss: 1.109807  [12864/60000]\n",
      "loss: 0.944022  [19264/60000]\n",
      "loss: 1.036231  [25664/60000]\n",
      "loss: 0.967165  [32064/60000]\n",
      "loss: 0.797941  [38464/60000]\n",
      "loss: 0.876096  [44864/60000]\n",
      "loss: 0.979917  [51264/60000]\n",
      "loss: 0.842858  [57664/60000]\n",
      "Test Error: \n",
      " Accuracy: 81.6%, Avg loss: 0.848670 \n",
      "\n",
      "Epoch 9\n",
      "--------------------------------------\n",
      "loss: 0.808877  [   64/60000]\n",
      "loss: 0.875015  [ 6464/60000]\n",
      "loss: 0.835033  [12864/60000]\n",
      "loss: 0.957086  [19264/60000]\n",
      "loss: 0.863864  [25664/60000]\n",
      "loss: 0.768549  [32064/60000]\n",
      "loss: 0.762580  [38464/60000]\n",
      "loss: 0.814699  [44864/60000]\n",
      "loss: 0.939493  [51264/60000]\n",
      "loss: 0.734237  [57664/60000]\n",
      "Test Error: \n",
      " Accuracy: 83.0%, Avg loss: 0.730254 \n",
      "\n",
      "Epoch 10\n",
      "--------------------------------------\n",
      "loss: 0.606248  [   64/60000]\n",
      "loss: 0.605646  [ 6464/60000]\n",
      "loss: 0.672336  [12864/60000]\n",
      "loss: 0.744200  [19264/60000]\n",
      "loss: 0.672410  [25664/60000]\n",
      "loss: 0.725718  [32064/60000]\n",
      "loss: 0.591808  [38464/60000]\n",
      "loss: 0.690462  [44864/60000]\n",
      "loss: 0.508899  [51264/60000]\n",
      "loss: 0.554956  [57664/60000]\n",
      "Test Error: \n",
      " Accuracy: 84.3%, Avg loss: 0.647212 \n",
      "\n",
      "Epoch 11\n",
      "--------------------------------------\n",
      "loss: 0.580364  [   64/60000]\n",
      "loss: 0.805538  [ 6464/60000]\n",
      "loss: 0.629096  [12864/60000]\n",
      "loss: 0.707673  [19264/60000]\n",
      "loss: 0.513877  [25664/60000]\n",
      "loss: 0.411020  [32064/60000]\n",
      "loss: 0.734049  [38464/60000]\n",
      "loss: 0.612648  [44864/60000]\n",
      "loss: 0.603685  [51264/60000]\n",
      "loss: 0.603993  [57664/60000]\n",
      "Test Error: \n",
      " Accuracy: 85.4%, Avg loss: 0.585653 \n",
      "\n",
      "Epoch 12\n",
      "--------------------------------------\n",
      "loss: 0.732735  [   64/60000]\n",
      "loss: 0.529946  [ 6464/60000]\n",
      "loss: 0.644659  [12864/60000]\n",
      "loss: 0.660385  [19264/60000]\n",
      "loss: 0.492854  [25664/60000]\n",
      "loss: 0.656795  [32064/60000]\n",
      "loss: 0.514606  [38464/60000]\n",
      "loss: 0.485507  [44864/60000]\n",
      "loss: 0.663285  [51264/60000]\n",
      "loss: 0.493525  [57664/60000]\n",
      "Test Error: \n",
      " Accuracy: 86.2%, Avg loss: 0.541168 \n",
      "\n",
      "Done!\n"
     ]
    }
   ],
   "source": [
    "loss_fn = nn.CrossEntropyLoss()\n",
    "optimizer = torch.optim.SGD(model.parameters(), lr=learning_rate)\n",
    "\n",
    "epochs = 12\n",
    "for t in range(epochs):\n",
    "    print(f'Epoch {t+1}\\n--------------------------------------')\n",
    "    train_loop(train_loader, model, loss_fn, optimizer)\n",
    "    test_loop(test_loader, model, loss_fn)\n",
    "print('Done!')"
   ]
  },
  {
   "cell_type": "code",
   "execution_count": 13,
   "metadata": {},
   "outputs": [
    {
     "name": "stdout",
     "output_type": "stream",
     "text": [
      "torch.Size([64, 1, 28, 28])\n"
     ]
    }
   ],
   "source": [
    "for X, y in train_loader:\n",
    "    print(X.shape)  # Should be [batch_size, 1, 28, 28]\n",
    "    break\n"
   ]
  },
  {
   "cell_type": "code",
   "execution_count": 14,
   "metadata": {},
   "outputs": [
    {
     "name": "stdout",
     "output_type": "stream",
     "text": [
      "Model saved successfully!\n"
     ]
    }
   ],
   "source": [
    "torch.save(model, 'mnist.pth')\n",
    "print('Model saved successfully!')"
   ]
  },
  {
   "cell_type": "code",
   "execution_count": 15,
   "metadata": {},
   "outputs": [
    {
     "data": {
      "image/png": "[encoded data removed]",
      "text/plain": [
       "<Figure size 640x480 with 1 Axes>"
      ]
     },
     "metadata": {},
     "output_type": "display_data"
    }
   ],
   "source": [
    "import matplotlib.pyplot as plt\n",
    "\n",
    "test_image, test_label = testing[2] \n",
    "test_image = test_image.unsqueeze(2) \n",
    "\n",
    "test_image = test_image.to(device)\n",
    "model.to(device)\n",
    "\n",
    "model.eval() \n",
    "with torch.no_grad():\n",
    "    output = model(test_image)\n",
    "\n",
    "predicted_label = output.argmax(1).item()\n",
    "\n",
    "plt.imshow(test_image.cpu().squeeze(), cmap=\"gray\")\n",
    "plt.title(f\"Predicted: {predicted_label}, Actual: {test_label}\")\n",
    "plt.show()\n"
   ]
  },
  {
   "cell_type": "code",
   "execution_count": null,
   "metadata": {},
   "outputs": [],
   "source": []
  }
 ],
 "metadata": {
  "kernelspec": {
   "display_name": "aienv",
   "language": "python",
   "name": "python3"
  },
  "language_info": {
   "codemirror_mode": {
    "name": "ipython",
    "version": 3
   },
   "file_extension": ".py",
   "mimetype": "text/x-python",
   "name": "python",
   "nbconvert_exporter": "python",
   "pygments_lexer": "ipython3",
   "version": "3.12.1"
  }
 },
 "nbformat": 4,
 "nbformat_minor": 2
}
